{
  "nbformat": 4,
  "nbformat_minor": 0,
  "metadata": {
    "colab": {
      "provenance": [],
      "authorship_tag": "ABX9TyNMv7XCS4DdRMQ8xUCVafgF",
      "include_colab_link": true
    },
    "kernelspec": {
      "name": "python3",
      "display_name": "Python 3"
    },
    "language_info": {
      "name": "python"
    }
  },
  "cells": [
    {
      "cell_type": "markdown",
      "metadata": {
        "id": "view-in-github",
        "colab_type": "text"
      },
      "source": [
        "<a href=\"https://colab.research.google.com/github/VictorHFr/Taller_de_Herramientas_Computacionales/blob/main/TareaE.ipynb\" target=\"_parent\"><img src=\"https://colab.research.google.com/assets/colab-badge.svg\" alt=\"Open In Colab\"/></a>"
      ]
    },
    {
      "cell_type": "markdown",
      "source": [
        "[Bibliografia](https://www.youtube.com/watch?v=Rlo9M4dAPTg)\n",
        "#TareaE\n",
        "#Victor Manuel Hernández Franco\n",
        "#Nombre del programa: Funciones de matrices"
      ],
      "metadata": {
        "id": "75NYBhvbW7dx"
      }
    },
    {
      "cell_type": "code",
      "source": [
        "#toda la tarea de matrices la voy a realizar con numpy ya que asi el codigo se vuelve mas facil de leer y hacer\n",
        "#1. Sumas de matrices rectangulares.\n",
        "import numpy as np\n",
        "\n",
        "# Ejemplo de matrices, son las matrices que voy a ocupar para toda la tarea para no tener que escribir nuevas en cada programa\n",
        "matriz1 = np.array([\n",
        "    [1, 2, 3],\n",
        "    [4, 5, 6]\n",
        "])\n",
        "\n",
        "matriz2 = np.array([\n",
        "    [7, 8, 9],\n",
        "    [10, 11, 12]\n",
        "])\n",
        "\n",
        "# Realizar la suma de las matrices\n",
        "resultado = matriz1 + matriz2\n",
        "\n",
        "# Mostrar el resultado\n",
        "print(\"Resultado de la suma:\")\n",
        "print(resultado)\n"
      ],
      "metadata": {
        "colab": {
          "base_uri": "https://localhost:8080/"
        },
        "id": "iyuM-dSHTnu_",
        "outputId": "64e13dd6-b115-49ee-d2ef-2543ca262281"
      },
      "execution_count": 1,
      "outputs": [
        {
          "output_type": "stream",
          "name": "stdout",
          "text": [
            "Resultado de la suma:\n",
            "[[ 8 10 12]\n",
            " [14 16 18]]\n"
          ]
        }
      ]
    },
    {
      "cell_type": "code",
      "source": [
        "#2. Multiplicación entrada a entrada rectangulares.\n",
        "import numpy as np\n",
        "\n",
        "# Realizar la multiplicación entrada a entrada de las matrices\n",
        "resultado = matriz1 * matriz2\n",
        "\n",
        "# Mostrar el resultado\n",
        "print(\"Resultado de la multiplicación entrada a entrada:\")\n",
        "print(resultado)"
      ],
      "metadata": {
        "colab": {
          "base_uri": "https://localhost:8080/"
        },
        "id": "nLriUg5eTzNi",
        "outputId": "55c06724-3f82-4bf2-d86a-557e5efa8575"
      },
      "execution_count": 3,
      "outputs": [
        {
          "output_type": "stream",
          "name": "stdout",
          "text": [
            "Resultado de la multiplicación entrada a entrada:\n",
            "[[ 7 16 27]\n",
            " [40 55 72]]\n"
          ]
        }
      ]
    },
    {
      "cell_type": "code",
      "source": [
        "#3.la traza de una matariz\n",
        "import numpy as np\n",
        "\n",
        "# aqui si uso otra matriz ya que la traza se realiza solo con una\n",
        "matriz = np.array([\n",
        "    [1, 2, 3],\n",
        "    [4, 5, 6],\n",
        "    [7, 8, 9]\n",
        "])\n",
        "\n",
        "# Calcular la traza de la matriz\n",
        "traza = np.trace(matriz)\n",
        "\n",
        "# Mostrar la traza\n",
        "print(\"Matriz:\")\n",
        "print(matriz)\n",
        "print(\"Traza de la matriz:\", traza)"
      ],
      "metadata": {
        "colab": {
          "base_uri": "https://localhost:8080/"
        },
        "id": "zYnD0rOgUPrI",
        "outputId": "f847554c-c4fd-459f-9b38-1ebb2ed9b79f"
      },
      "execution_count": 4,
      "outputs": [
        {
          "output_type": "stream",
          "name": "stdout",
          "text": [
            "Matriz:\n",
            "[[1 2 3]\n",
            " [4 5 6]\n",
            " [7 8 9]]\n",
            "Traza de la matriz: 15\n"
          ]
        }
      ]
    },
    {
      "cell_type": "code",
      "source": [
        "#4. La transpuesta.\n",
        "import numpy as np\n",
        "\n",
        "\n",
        "# Calcular la transpuesta de la matriz usando numpy.transpose()\n",
        "#La función numpy.transpose() en NumPy se utiliza para calcular la transpuesta de una matriz.\n",
        "transpuesta = np.transpose(matriz)\n",
        "\n",
        "# Mostrar la matriz original y su transpuesta\n",
        "print(matriz)\n",
        "print(\"Matriz transpuesta:\")\n",
        "print(transpuesta)\n"
      ],
      "metadata": {
        "colab": {
          "base_uri": "https://localhost:8080/"
        },
        "id": "NSdSUH9dVK3f",
        "outputId": "9ea7985d-6169-42d6-f6f4-ec42611fba11"
      },
      "execution_count": 5,
      "outputs": [
        {
          "output_type": "stream",
          "name": "stdout",
          "text": [
            "[[1 2 3]\n",
            " [4 5 6]\n",
            " [7 8 9]]\n",
            "Matriz transpuesta:\n",
            "[[1 4 7]\n",
            " [2 5 8]\n",
            " [3 6 9]]\n"
          ]
        }
      ]
    },
    {
      "cell_type": "code",
      "source": [
        "#5. El máximo y mínimo elemento en una matriz.\n",
        "import numpy as np\n",
        "\n",
        "# Encontrar el valor máximo en la matriz\n",
        "maximo = np.max(matriz)\n",
        "\n",
        "# Encontrar el valor mínimo en la matriz\n",
        "minimo = np.min(matriz)\n",
        "\n",
        "# Mostrar los resultados\n",
        "print(\"Matriz:\")\n",
        "print(matriz)\n",
        "print(\"Valor máximo:\", maximo)\n",
        "print(\"Valor mínimo:\", minimo)\n"
      ],
      "metadata": {
        "colab": {
          "base_uri": "https://localhost:8080/"
        },
        "id": "SPk_JG1qVvj1",
        "outputId": "cb6c473c-2d39-4580-e36f-f4a0f7de3ac6"
      },
      "execution_count": 6,
      "outputs": [
        {
          "output_type": "stream",
          "name": "stdout",
          "text": [
            "Matriz:\n",
            "[[1 2 3]\n",
            " [4 5 6]\n",
            " [7 8 9]]\n",
            "Valor máximo: 9\n",
            "Valor mínimo: 1\n"
          ]
        }
      ]
    },
    {
      "cell_type": "code",
      "source": [
        "#6. La suma del cuadrado de los elementos de una matriz.\n",
        "import numpy as np\n",
        "\n",
        "# Elevar al cuadrado cada elemento de la matriz\n",
        "matriz_cuadrada = np.square(matriz)\n",
        "\n",
        "# Calcular la suma de los cuadrados de los elementos\n",
        "suma_cuadrados = np.sum(matriz_cuadrada)\n",
        "\n",
        "# Mostrar los resultados\n",
        "print(\"Matriz original:\")\n",
        "print(matriz)\n",
        "print(\"Matriz elevada al cuadrado:\")\n",
        "print(matriz_cuadrada)\n",
        "print(\"Suma de los cuadrados de los elementos:\", suma_cuadrados)\n"
      ],
      "metadata": {
        "colab": {
          "base_uri": "https://localhost:8080/"
        },
        "id": "WRIlnV3qV7ln",
        "outputId": "379d24ee-75fb-43f0-abdd-d73111c09358"
      },
      "execution_count": 7,
      "outputs": [
        {
          "output_type": "stream",
          "name": "stdout",
          "text": [
            "Matriz original:\n",
            "[[1 2 3]\n",
            " [4 5 6]\n",
            " [7 8 9]]\n",
            "Matriz elevada al cuadrado:\n",
            "[[ 1  4  9]\n",
            " [16 25 36]\n",
            " [49 64 81]]\n",
            "Suma de los cuadrados de los elementos: 285\n"
          ]
        }
      ]
    },
    {
      "cell_type": "code",
      "source": [
        "#7. La potencia de matrices.\n",
        "import numpy as np\n",
        "\n",
        "# Elevar la matriz a la potencia 3\n",
        "potencia = 3\n",
        "\n",
        "matriz_potenciada = np.linalg.matrix_power(matriz, potencia)\n",
        "\n",
        "# Mostrar el resultado\n",
        "print(\"Matriz original:\")\n",
        "print(matriz)\n",
        "print(f\"Matriz elevada a la potencia {potencia}:\")\n",
        "print(matriz_potenciada)\n"
      ],
      "metadata": {
        "colab": {
          "base_uri": "https://localhost:8080/"
        },
        "id": "HnIn7BcCWcmq",
        "outputId": "3f547f85-6793-4ada-9e9e-9635559f378f"
      },
      "execution_count": 8,
      "outputs": [
        {
          "output_type": "stream",
          "name": "stdout",
          "text": [
            "Matriz original:\n",
            "[[1 2 3]\n",
            " [4 5 6]\n",
            " [7 8 9]]\n",
            "Matriz elevada a la potencia 3:\n",
            "[[ 468  576  684]\n",
            " [1062 1305 1548]\n",
            " [1656 2034 2412]]\n"
          ]
        }
      ]
    }
  ]
}