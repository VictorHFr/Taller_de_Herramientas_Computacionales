{
  "nbformat": 4,
  "nbformat_minor": 0,
  "metadata": {
    "colab": {
      "provenance": [],
      "authorship_tag": "ABX9TyMVSiS81XFM1Q2rFyxJWSlh",
      "include_colab_link": true
    },
    "kernelspec": {
      "name": "python3",
      "display_name": "Python 3"
    },
    "language_info": {
      "name": "python"
    }
  },
  "cells": [
    {
      "cell_type": "markdown",
      "metadata": {
        "id": "view-in-github",
        "colab_type": "text"
      },
      "source": [
        "<a href=\"https://colab.research.google.com/github/VictorHFr/Taller_de_Herramientas_Computacionales/blob/main/Tarea6.ipynb\" target=\"_parent\"><img src=\"https://colab.research.google.com/assets/colab-badge.svg\" alt=\"Open In Colab\"/></a>"
      ]
    },
    {
      "cell_type": "markdown",
      "source": [
        "#tarea 6\n",
        "#Victor Manuel Hernández Franco\n",
        "#Vectores\n"
      ],
      "metadata": {
        "id": "yUg-X8FksLGq"
      }
    },
    {
      "cell_type": "code",
      "execution_count": 2,
      "metadata": {
        "colab": {
          "base_uri": "https://localhost:8080/"
        },
        "id": "kBhh2WBWq3Oz",
        "outputId": "2288d44f-aa55-4104-c588-a148708fa1a9"
      },
      "outputs": [
        {
          "output_type": "stream",
          "name": "stdout",
          "text": [
            "Producto de los Vectores: [4, 10, 18]\n",
            "Potencia del Vector 1: [1, 8, 27]\n",
            "Potencia del Vector 2: [64, 125, 216]\n",
            "Producto Escalar de los Vectores: 32\n"
          ]
        }
      ],
      "source": [
        "# Definición de los vectores\n",
        "vector1 = [1, 2, 3]\n",
        "vector2 = [4, 5, 6]\n",
        "\n",
        "# Calcular el Producto de los Vectores\n",
        "producto_de_vectores = [vector1[i] * vector2[i] for i in range(3)]\n",
        "\n",
        "# Calcular la Potencia de cada Vector (n = 3)\n",
        "potencia_vector1 = [vector1[i] ** 3 for i in range(3)]\n",
        "potencia_vector2 = [vector2[i] ** 3 for i in range(3)]\n",
        "\n",
        "# Calcular el Producto Escalar\n",
        "producto_escalar = 0\n",
        "for i in range(3):\n",
        "    producto_escalar += vector1[i] * vector2[i]\n",
        "\n",
        "# Imprimir los resultados\n",
        "print(\"Producto de los Vectores:\", producto_de_vectores)\n",
        "print(\"Potencia del Vector 1:\", potencia_vector1)\n",
        "print(\"Potencia del Vector 2:\", potencia_vector2)\n",
        "print(\"Producto Escalar de los Vectores:\", producto_escalar)"
      ]
    }
  ]
}