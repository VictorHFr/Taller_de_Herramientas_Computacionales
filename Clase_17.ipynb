{
  "nbformat": 4,
  "nbformat_minor": 0,
  "metadata": {
    "colab": {
      "provenance": [],
      "authorship_tag": "ABX9TyOJ6sWuWz35Nv9i4Rd2RQ0L",
      "include_colab_link": true
    },
    "kernelspec": {
      "name": "python3",
      "display_name": "Python 3"
    },
    "language_info": {
      "name": "python"
    }
  },
  "cells": [
    {
      "cell_type": "markdown",
      "metadata": {
        "id": "view-in-github",
        "colab_type": "text"
      },
      "source": [
        "<a href=\"https://colab.research.google.com/github/VictorHFr/Taller_de_Herramientas_Computacionales/blob/main/Clase_17.ipynb\" target=\"_parent\"><img src=\"https://colab.research.google.com/assets/colab-badge.svg\" alt=\"Open In Colab\"/></a>"
      ]
    },
    {
      "cell_type": "markdown",
      "source": [
        "Clase 17\n",
        "Victor Manuel Hernández Franco\n",
        "17 de Octubre de 2023"
      ],
      "metadata": {
        "id": "KPZ1SLNm0Zay"
      }
    },
    {
      "cell_type": "code",
      "source": [
        "#Ejercicio de clase 17 de octubre de 2023\n",
        "#Multiplicar dos matrices elemento con elemento.\n",
        "A=[[1,2,3],[4,5,6], [7,8,9]]\n",
        "B=[[10,11,12],[13,14,15],[16,17,18]]\n",
        "for i in range(len(A)):\n",
        "  for j in range(len(A)):\n",
        "   print(A[i][j]*B[i][j])"
      ],
      "metadata": {
        "colab": {
          "base_uri": "https://localhost:8080/"
        },
        "id": "B-z2P3xlps3x",
        "outputId": "c0c3081c-efb8-4bf2-db93-8129d8c53b35"
      },
      "execution_count": 1,
      "outputs": [
        {
          "output_type": "stream",
          "name": "stdout",
          "text": [
            "10\n",
            "22\n",
            "36\n",
            "52\n",
            "70\n",
            "90\n",
            "112\n",
            "136\n",
            "162\n"
          ]
        }
      ]
    },
    {
      "cell_type": "code",
      "execution_count": null,
      "metadata": {
        "colab": {
          "base_uri": "https://localhost:8080/"
        },
        "id": "UU0YE2H5wMTi",
        "outputId": "48492b31-aa05-46a4-e5ae-5041bfb8e036"
      },
      "outputs": [
        {
          "output_type": "stream",
          "name": "stdout",
          "text": [
            "2\n"
          ]
        }
      ],
      "source": [
        "import math\n",
        "#Round a number upward to its nearest integer\n",
        "print(math.ceil(1.4))"
      ]
    },
    {
      "cell_type": "code",
      "source": [
        "import math\n",
        "\n",
        "p=[2,23]\n",
        "q=[23,14]\n",
        "\n",
        "#Calcular ecuacion de distancia\n",
        "print (math.dist(p, q))"
      ],
      "metadata": {
        "colab": {
          "base_uri": "https://localhost:8080/"
        },
        "id": "mqSZP5KlxPjb",
        "outputId": "f9e3e4db-2a73-46b7-aad4-6e2227a3f237"
      },
      "execution_count": null,
      "outputs": [
        {
          "output_type": "stream",
          "name": "stdout",
          "text": [
            "22.847319317591726\n"
          ]
        }
      ]
    },
    {
      "cell_type": "code",
      "source": [
        "#Ccomprobar si el valor es infinito\n",
        "print(math.isinf(56))\n",
        "print(math.isinf(float(\"inf\")))\n",
        "print(math.isinf(float(\"-inf\")))"
      ],
      "metadata": {
        "colab": {
          "base_uri": "https://localhost:8080/"
        },
        "id": "EJj6-9lnyHc7",
        "outputId": "261a31fe-fadc-4091-8c88-ed4702b1388f"
      },
      "execution_count": null,
      "outputs": [
        {
          "output_type": "stream",
          "name": "stdout",
          "text": [
            "False\n",
            "True\n",
            "True\n"
          ]
        }
      ]
    },
    {
      "cell_type": "code",
      "source": [
        "print(math.pi)"
      ],
      "metadata": {
        "colab": {
          "base_uri": "https://localhost:8080/"
        },
        "id": "9luwNhnwygaa",
        "outputId": "3b517c98-c523-4f4c-defa-b11b7c63a84b"
      },
      "execution_count": null,
      "outputs": [
        {
          "output_type": "stream",
          "name": "stdout",
          "text": [
            "3.141592653589793\n"
          ]
        }
      ]
    },
    {
      "cell_type": "code",
      "source": [
        "#Biblioteca Random. Generar números randoms\n",
        "import random\n",
        "random.seed(10)\n",
        "print(random.random())"
      ],
      "metadata": {
        "colab": {
          "base_uri": "https://localhost:8080/"
        },
        "id": "NzMqnrj6zqXS",
        "outputId": "ee40559d-3524-42b7-e4bd-4af4aa0e1fac"
      },
      "execution_count": null,
      "outputs": [
        {
          "output_type": "stream",
          "name": "stdout",
          "text": [
            "0.5714025946899135\n"
          ]
        }
      ]
    },
    {
      "cell_type": "code",
      "source": [
        "import random\n",
        "\n",
        "print(random.randint(3, 9))"
      ],
      "metadata": {
        "colab": {
          "base_uri": "https://localhost:8080/"
        },
        "id": "5jr3rKIjz0CZ",
        "outputId": "66ba51e1-b83b-4fac-ea53-c4203db33ac9"
      },
      "execution_count": null,
      "outputs": [
        {
          "output_type": "stream",
          "name": "stdout",
          "text": [
            "6\n"
          ]
        }
      ]
    },
    {
      "cell_type": "code",
      "source": [
        "import random\n",
        "\n",
        "mylist = [\"apple\", \"banana\", \"cherry\"]\n",
        "\n",
        "print(random.choice(mylist))"
      ],
      "metadata": {
        "colab": {
          "base_uri": "https://localhost:8080/"
        },
        "id": "C0w6u5wz07QJ",
        "outputId": "4fadb9eb-2724-4111-c5ff-6d3224166081"
      },
      "execution_count": null,
      "outputs": [
        {
          "output_type": "stream",
          "name": "stdout",
          "text": [
            "banana\n"
          ]
        }
      ]
    },
    {
      "cell_type": "code",
      "source": [
        "#Matriz\n",
        "A=[[1,2,3],[4,5,6], [7,8,9]]\n",
        "B=[[10,11,12],[13,14,15],[16,17,18]]\n",
        "print(A)\n",
        "print(A[0][0])\n",
        "print(A[1][2])"
      ],
      "metadata": {
        "colab": {
          "base_uri": "https://localhost:8080/"
        },
        "id": "1WEhm68h1T47",
        "outputId": "24ae9c18-b274-4954-deaa-821935129cd5"
      },
      "execution_count": null,
      "outputs": [
        {
          "output_type": "stream",
          "name": "stdout",
          "text": [
            "[[1, 2, 3], [4, 5, 6], [7, 8, 9]]\n",
            "1\n",
            "6\n"
          ]
        }
      ]
    },
    {
      "cell_type": "code",
      "source": [
        "#Matriz 2\n",
        "A=[[1,2,3],[4,5,6], [7,8,9]]\n",
        "\n",
        "for i in range(len(A)):\n",
        "  print(A[0][i])\n",
        "  print(A[1][i])"
      ],
      "metadata": {
        "colab": {
          "base_uri": "https://localhost:8080/"
        },
        "id": "dYmuJLPD4Vni",
        "outputId": "451f4273-1b3c-4b88-908c-cbef280af603"
      },
      "execution_count": null,
      "outputs": [
        {
          "output_type": "stream",
          "name": "stdout",
          "text": [
            "1\n",
            "4\n",
            "2\n",
            "5\n",
            "3\n",
            "6\n"
          ]
        }
      ]
    },
    {
      "cell_type": "code",
      "source": [
        "A=[[1,2,3],[4,5,6], [7,8,9]]\n",
        "\n",
        "for i in range(len(A)):\n",
        "  print(A[i][0])"
      ],
      "metadata": {
        "colab": {
          "base_uri": "https://localhost:8080/"
        },
        "id": "KZltU30R5hUw",
        "outputId": "cc09c2b3-0bd3-4563-cc47-15db2cd21939"
      },
      "execution_count": null,
      "outputs": [
        {
          "output_type": "stream",
          "name": "stdout",
          "text": [
            "1\n",
            "4\n",
            "7\n"
          ]
        }
      ]
    },
    {
      "cell_type": "code",
      "source": [
        "A=[[1,2,3],[4,5,6], [7,8,9]]\n",
        "\n",
        "for i in range(len(A)):\n",
        "  print(A[i])"
      ],
      "metadata": {
        "colab": {
          "base_uri": "https://localhost:8080/"
        },
        "id": "JEBl7u8a51OI",
        "outputId": "be65e2f4-a1d6-43a7-e1b8-a69ec3061f54"
      },
      "execution_count": null,
      "outputs": [
        {
          "output_type": "stream",
          "name": "stdout",
          "text": [
            "[1, 2, 3]\n",
            "[4, 5, 6]\n",
            "[7, 8, 9]\n"
          ]
        }
      ]
    },
    {
      "cell_type": "code",
      "source": [
        "for i in range(len(A)):\n",
        "  for j in range(len(A)):\n",
        "    print(A[i][j])\n"
      ],
      "metadata": {
        "colab": {
          "base_uri": "https://localhost:8080/"
        },
        "id": "Tt0M0ZoJ6LCX",
        "outputId": "76bccac7-2516-4386-9f9d-d6ff34370753"
      },
      "execution_count": null,
      "outputs": [
        {
          "output_type": "stream",
          "name": "stdout",
          "text": [
            "1\n",
            "2\n",
            "3\n",
            "4\n",
            "5\n",
            "6\n",
            "7\n",
            "8\n",
            "9\n"
          ]
        }
      ]
    },
    {
      "cell_type": "code",
      "source": [
        "for i in range(len(A)):\n",
        "  for j in range(len(A)):\n",
        "   print(A[j][i])"
      ],
      "metadata": {
        "colab": {
          "base_uri": "https://localhost:8080/"
        },
        "id": "Sso9AvOe8iVf",
        "outputId": "3db25240-aedd-4b37-e4f6-d1ca0463efe2"
      },
      "execution_count": null,
      "outputs": [
        {
          "output_type": "stream",
          "name": "stdout",
          "text": [
            "1\n",
            "4\n",
            "7\n",
            "2\n",
            "5\n",
            "8\n",
            "3\n",
            "6\n",
            "9\n"
          ]
        }
      ]
    },
    {
      "cell_type": "code",
      "source": [
        "for i in range(len(A)):\n",
        "  for j in range(len(A)):\n",
        "   print(A[i][j]+B[i][j])"
      ],
      "metadata": {
        "colab": {
          "base_uri": "https://localhost:8080/"
        },
        "id": "411fruzq_WVL",
        "outputId": "29805f64-f6f3-4fe7-e0ba-f77a20e72725"
      },
      "execution_count": null,
      "outputs": [
        {
          "output_type": "stream",
          "name": "stdout",
          "text": [
            "11\n",
            "13\n",
            "15\n",
            "17\n",
            "19\n",
            "21\n",
            "23\n",
            "25\n",
            "27\n"
          ]
        }
      ]
    },
    {
      "cell_type": "code",
      "source": [
        "A=[5, 3, 1, 9, 10, 2, 15]\n",
        "if 20909808>3:\n",
        "  A = [3, 5]\n",
        "  print(A)"
      ],
      "metadata": {
        "colab": {
          "base_uri": "https://localhost:8080/"
        },
        "id": "VQ6rFJknAi0A",
        "outputId": "f70bea0a-59ab-4778-f20a-5528490ad53e"
      },
      "execution_count": null,
      "outputs": [
        {
          "output_type": "stream",
          "name": "stdout",
          "text": [
            "[3, 5]\n"
          ]
        }
      ]
    },
    {
      "cell_type": "code",
      "source": [
        "L=[5,4,3,2,1]\n",
        "n=len(L)\n",
        "for i in range(n-1):\n",
        "  if L[i]>L[i+1]:\n",
        "     print(L)\n",
        "     aux=L[i+1]\n",
        "     L[i+1]=L[i]\n",
        "     L[i]=aux\n",
        "     print(L)"
      ],
      "metadata": {
        "colab": {
          "base_uri": "https://localhost:8080/"
        },
        "id": "xoLJw5N7Cz0g",
        "outputId": "6b148742-e65d-407c-fb33-ec4192fa2d10"
      },
      "execution_count": null,
      "outputs": [
        {
          "output_type": "stream",
          "name": "stdout",
          "text": [
            "[5, 4, 3, 2, 1]\n",
            "[4, 5, 3, 2, 1]\n",
            "[4, 5, 3, 2, 1]\n",
            "[4, 3, 5, 2, 1]\n",
            "[4, 3, 5, 2, 1]\n",
            "[4, 3, 2, 5, 1]\n",
            "[4, 3, 2, 5, 1]\n",
            "[4, 3, 2, 1, 5]\n"
          ]
        }
      ]
    }
  ]
}