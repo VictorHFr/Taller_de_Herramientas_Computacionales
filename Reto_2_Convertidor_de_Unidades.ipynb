{
  "nbformat": 4,
  "nbformat_minor": 0,
  "metadata": {
    "colab": {
      "provenance": [],
      "authorship_tag": "ABX9TyPYmTd/ofztQttt8eYzdc5m",
      "include_colab_link": true
    },
    "kernelspec": {
      "name": "python3",
      "display_name": "Python 3"
    },
    "language_info": {
      "name": "python"
    }
  },
  "cells": [
    {
      "cell_type": "markdown",
      "metadata": {
        "id": "view-in-github",
        "colab_type": "text"
      },
      "source": [
        "<a href=\"https://colab.research.google.com/github/VictorHFr/Taller_de_Herramientas_Computacionales/blob/main/Reto_2_Convertidor_de_Unidades.ipynb\" target=\"_parent\"><img src=\"https://colab.research.google.com/assets/colab-badge.svg\" alt=\"Open In Colab\"/></a>"
      ]
    },
    {
      "cell_type": "markdown",
      "source": [
        "#Reto 2. Convertidor de Unidades.\n",
        "Victor Manuel Hernández Franco\n",
        "\n"
      ],
      "metadata": {
        "id": "0HSao5B38mni"
      }
    },
    {
      "cell_type": "code",
      "source": [
        "def convertir_unidades_longitud():\n",
        "    print(\"Opciones de conversión de longitud:\")\n",
        "    print(\"1. Metros a Pies\")\n",
        "    print(\"2. Pies a Metros\")\n",
        "    print(\"3. Kilómetros a Millas\")\n",
        "    print(\"4. Millas a Kilómetros\")\n",
        "    opcion = input(\"Seleccione una opción (1/2/3/4): \")\n",
        "\n",
        "    if opcion == \"1\":\n",
        "        metros = float(input(\"Ingrese la longitud en metros: \"))\n",
        "        pies = metros * 3.28084\n",
        "        print(f\"{metros} metros son aproximadamente {pies} pies.\")\n",
        "    elif opcion == \"2\":\n",
        "        pies = float(input(\"Ingrese la longitud en pies: \"))\n",
        "        metros = pies / 3.28084\n",
        "        print(f\"{pies} pies son aproximadamente {metros} metros.\")\n",
        "    elif opcion == \"3\":\n",
        "        kilometros = float(input(\"Ingrese la distancia en kilómetros: \"))\n",
        "        millas = kilometros * 0.621371\n",
        "        print(f\"{kilometros} kilómetros son aproximadamente {millas} millas.\")\n",
        "    elif opcion == \"4\":\n",
        "        millas = float(input(\"Ingrese la distancia en millas: \"))\n",
        "        kilometros = millas / 0.621371\n",
        "        print(f\"{millas} millas son aproximadamente {kilometros} kilómetros.\")\n",
        "    else:\n",
        "        print(\"Opción no válida. Inténtelo de nuevo.\")\n",
        "\n",
        "def convertir_unidades_masa():\n",
        "    print(\"Opciones de conversión de masa:\")\n",
        "    print(\"1. Kilogramos a Libras\")\n",
        "    print(\"2. Libras a Kilogramos\")\n",
        "    print(\"3. Gramos a Onzas\")\n",
        "    print(\"4. Onzas a Gramos\")\n",
        "    opcion = input(\"Seleccione una opción (1/2/3/4): \")\n",
        "\n",
        "    if opcion == \"1\":\n",
        "        kilogramos = float(input(\"Ingrese la masa en kilogramos: \"))\n",
        "        libras = kilogramos * 2.20462\n",
        "        print(f\"{kilogramos} kilogramos son aproximadamente {libras} libras.\")\n",
        "    elif opcion == \"2\":\n",
        "        libras = float(input(\"Ingrese la masa en libras: \"))\n",
        "        kilogramos = libras / 2.20462\n",
        "        print(f\"{libras} libras son aproximadamente {kilogramos} kilogramos.\")\n",
        "    elif opcion == \"3\":\n",
        "        gramos = float(input(\"Ingrese la masa en gramos: \"))\n",
        "        onzas = gramos * 0.035274\n",
        "        print(f\"{gramos} gramos son aproximadamente {onzas} onzas.\")\n",
        "    elif opcion == \"4\":\n",
        "        onzas = float(input(\"Ingrese la masa en onzas: \"))\n",
        "        gramos = onzas / 0.035274\n",
        "        print(f\"{onzas} onzas son aproximadamente {gramos} gramos.\")\n",
        "    else:\n",
        "        print(\"Opción no válida. Inténtelo de nuevo.\")\n",
        "\n",
        "def convertir_unidades_tiempo():\n",
        "    print(\"Opciones de conversión de tiempo:\")\n",
        "    print(\"1. Segundos a Minutos\")\n",
        "    print(\"2. Minutos a Horas\")\n",
        "    print(\"3. Horas a Segundos\")\n",
        "    print(\"4. Días a Milisegundos\")\n",
        "    opcion = input(\"Seleccione una opción (1/2/3/4): \")\n",
        "\n",
        "    if opcion == \"1\":\n",
        "        segundos = float(input(\"Ingrese el tiempo en segundos: \"))\n",
        "        minutos = segundos / 60\n",
        "        print(f\"{segundos} segundos son aproximadamente {minutos} minutos.\")\n",
        "    elif opcion == \"2\":\n",
        "        minutos = float(input(\"Ingrese el tiempo en minutos: \"))\n",
        "        horas = minutos / 60\n",
        "        print(f\"{minutos} minutos son aproximadamente {horas} horas.\")\n",
        "    elif opcion == \"3\":\n",
        "        horas = float(input(\"Ingrese el tiempo en horas: \"))\n",
        "        segundos = horas * 3600\n",
        "        print(f\"{horas} horas son aproximadamente {segundos} segundos.\")\n",
        "    elif opcion == \"4\":\n",
        "        dias = float(input(\"Ingrese el tiempo en días: \"))\n",
        "        milisegundos = dias * 24 * 60 * 60 * 1000\n",
        "        print(f\"{dias} días son aproximadamente {milisegundos} milisegundos.\")\n",
        "    else:\n",
        "        print(\"Opción no válida. Inténtelo de nuevo.\")\n",
        "\n",
        "def main():\n",
        "    while True:\n",
        "        print(\"\\nMenú:\")\n",
        "        print(\"1. Convertir unidades de longitud\")\n",
        "        print(\"2. Convertir unidades de masa\")\n",
        "        print(\"3. Convertir unidades de tiempo\")\n",
        "        print(\"4. Salir del programa\")\n",
        "        opcion = input(\"Seleccione una opción (1/2/3/4): \")\n",
        "\n",
        "        if opcion == \"4\":\n",
        "            print(\"¡Hasta luego!\")\n",
        "            break\n",
        "\n",
        "        if opcion == \"1\":\n",
        "            convertir_unidades_longitud()\n",
        "        elif opcion == \"2\":\n",
        "            convertir_unidades_masa()\n",
        "        elif opcion == \"3\":\n",
        "            convertir_unidades_tiempo()\n",
        "        else:\n",
        "            print(\"Opción no válida. Inténtelo de nuevo.\")\n",
        "\n",
        "if __name__ == \"__main__\":\n",
        "    main()\n"
      ],
      "metadata": {
        "colab": {
          "base_uri": "https://localhost:8080/"
        },
        "id": "UNw-25-q-TMA",
        "outputId": "4b6d0055-bdb5-426a-e9fb-1ca843f19a28"
      },
      "execution_count": 22,
      "outputs": [
        {
          "output_type": "stream",
          "name": "stdout",
          "text": [
            "\n",
            "Menú:\n",
            "1. Convertir unidades de longitud\n",
            "2. Convertir unidades de masa\n",
            "3. Convertir unidades de tiempo\n",
            "4. Salir del programa\n",
            "Seleccione una opción (1/2/3/4): 4\n",
            "¡Hasta luego!\n"
          ]
        }
      ]
    }
  ]
}