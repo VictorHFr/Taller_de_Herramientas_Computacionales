{
  "nbformat": 4,
  "nbformat_minor": 0,
  "metadata": {
    "colab": {
      "provenance": [],
      "include_colab_link": true
    },
    "kernelspec": {
      "name": "python3",
      "display_name": "Python 3"
    },
    "language_info": {
      "name": "python"
    }
  },
  "cells": [
    {
      "cell_type": "markdown",
      "metadata": {
        "id": "view-in-github",
        "colab_type": "text"
      },
      "source": [
        "<a href=\"https://colab.research.google.com/github/VictorHFr/Taller_de_Herramientas_Computacionales/blob/main/Clase_10.ipynb\" target=\"_parent\"><img src=\"https://colab.research.google.com/assets/colab-badge.svg\" alt=\"Open In Colab\"/></a>"
      ]
    },
    {
      "cell_type": "markdown",
      "source": [
        "#Clase 10\n",
        "#Victor Manuel Hernandez Franco\n"
      ],
      "metadata": {
        "id": "Ush8RFMFhewk"
      }
    },
    {
      "cell_type": "code",
      "source": [
        "thisdict = {\n",
        "    \"brand \": \"Honda\",\n",
        "    \"model\": \"Civic\",\n",
        "    \"year\" : 2077,\n",
        "    \"year\" : 1999\n",
        "}\n",
        "print(thisdict)"
      ],
      "metadata": {
        "colab": {
          "base_uri": "https://localhost:8080/"
        },
        "id": "_12p7-qlv20r",
        "outputId": "7f476e6e-0ef8-420e-9d67-cf68eba8864e"
      },
      "execution_count": 1,
      "outputs": [
        {
          "output_type": "stream",
          "name": "stdout",
          "text": [
            "{'brand ': 'Honda', 'model': 'Civic', 'year': 1999}\n"
          ]
        }
      ]
    },
    {
      "cell_type": "code",
      "source": [
        "diccionario = {\"phyton\": 2.7, \"zope\": 2.13, \"plone\": 5.7}\n",
        "\n",
        "nuevo_diccionario = {}\n",
        "for clave in diccionario.keys():\n",
        "  nuevo_diccionario[clave] = diccionario[clave]\n",
        "\n",
        "print(nuevo_diccionario)"
      ],
      "metadata": {
        "colab": {
          "base_uri": "https://localhost:8080/"
        },
        "id": "ExgzcQb7xERc",
        "outputId": "5f94b02a-1bac-4abb-a1c9-97c223edef43"
      },
      "execution_count": null,
      "outputs": [
        {
          "output_type": "stream",
          "name": "stdout",
          "text": [
            "{'phyton': 2.7, 'zope': 2.13, 'plone': 5.7}\n"
          ]
        }
      ]
    },
    {
      "cell_type": "code",
      "source": [
        "import pandas as pd\n",
        "\n",
        "#Crear un diccionario con datos\n",
        "datos = {\n",
        "    \"Nombre\" : [\"Juan\", \"Maria\", \"Pedro\", \"Luisa\"],\n",
        "    \"Edad\" : [25, 29, 32, 45],\n",
        "    \"Ciudad\" : [\"Madrid\", \"Barcelona\", \"Valencia\", \"Sevilla\"]\n",
        "}\n",
        "\n",
        "dataframe = pd.DataFrame(datos)\n",
        "\n",
        "print(dataframe)"
      ],
      "metadata": {
        "id": "xDN9krl4yEDC",
        "colab": {
          "base_uri": "https://localhost:8080/"
        },
        "outputId": "f2d09f49-b00d-44e5-c60a-d068da27bd66"
      },
      "execution_count": null,
      "outputs": [
        {
          "output_type": "stream",
          "name": "stdout",
          "text": [
            "  Nombre  Edad     Ciudad\n",
            "0   Juan    25     Madrid\n",
            "1  Maria    29  Barcelona\n",
            "2  Pedro    32   Valencia\n",
            "3  Luisa    45    Sevilla\n"
          ]
        }
      ]
    },
    {
      "cell_type": "code",
      "source": [
        "#CREAR UNA TUPLA\n",
        "mi_tupla = (1, 2, 3, \"adios\", True)\n",
        "print(mi_tupla)"
      ],
      "metadata": {
        "colab": {
          "base_uri": "https://localhost:8080/"
        },
        "id": "SPtbflFEy2Vt",
        "outputId": "24183f60-1f14-4225-9417-a043354d863a"
      },
      "execution_count": 2,
      "outputs": [
        {
          "output_type": "stream",
          "name": "stdout",
          "text": [
            "(1, 2, 3, 'adios', True)\n"
          ]
        }
      ]
    },
    {
      "cell_type": "code",
      "source": [
        "#Si se desea borrar el valor de la lista\n",
        "mi_tupla = (1, 2, 3, 3, 5,5,5,5,5)\n",
        "\n",
        "elemento_a_borrar = 5\n",
        "nueva_tupla = tuple(elemento for elemento in mi_tupla if elemento != elemento_a_borrar)\n",
        "print(nueva_tupla)"
      ],
      "metadata": {
        "id": "7g6c0d1P0G2G",
        "colab": {
          "base_uri": "https://localhost:8080/"
        },
        "outputId": "9c0a3540-04fa-4adb-d3f2-1f700267183a"
      },
      "execution_count": 4,
      "outputs": [
        {
          "output_type": "stream",
          "name": "stdout",
          "text": [
            "(1, 2, 3, 3)\n"
          ]
        }
      ]
    },
    {
      "cell_type": "code",
      "source": [
        "frutas = (\"manzana\", \"fresa\", \"mango\")\n",
        "for fruta in frutas:\n",
        "  print(fruta)"
      ],
      "metadata": {
        "colab": {
          "base_uri": "https://localhost:8080/"
        },
        "id": "sWL7N8zZ0kJN",
        "outputId": "b3873463-cbe5-41d7-ec6e-5b674ada30f1"
      },
      "execution_count": null,
      "outputs": [
        {
          "output_type": "stream",
          "name": "stdout",
          "text": [
            "manzana\n",
            "fresa\n",
            "mango\n"
          ]
        }
      ]
    },
    {
      "cell_type": "code",
      "source": [
        "frutas = (\"manzana\", \"fresa\", \"mango\")\n",
        "if \"mango\" in frutas:\n",
        "  print(\"SI, la manzana está en la tupla\")"
      ],
      "metadata": {
        "colab": {
          "base_uri": "https://localhost:8080/"
        },
        "id": "PMNZQrO11Awm",
        "outputId": "5159f2eb-7525-45ff-8867-012c9dbf7e43"
      },
      "execution_count": 5,
      "outputs": [
        {
          "output_type": "stream",
          "name": "stdout",
          "text": [
            "SI, la manzana está en la tupla\n"
          ]
        }
      ]
    },
    {
      "cell_type": "code",
      "source": [
        "#FUNCIONES\n",
        "def mi_funcion():\n",
        "  print(\"Hola, te saludo desde la funcion\")"
      ],
      "metadata": {
        "id": "3faMKxi_1nb4"
      },
      "execution_count": null,
      "outputs": []
    },
    {
      "cell_type": "code",
      "source": [
        "def mi_funcion_nueva(fname):\n",
        "    print(\"Hola \" +fname + \" te saludo desde la funcion\")\n",
        "\n",
        "mi_funcion_nueva(\"victor\")"
      ],
      "metadata": {
        "colab": {
          "base_uri": "https://localhost:8080/"
        },
        "id": "vLKauB7_29wM",
        "outputId": "5d003a58-6fdc-4ced-a6bc-3a396d40beb5"
      },
      "execution_count": 13,
      "outputs": [
        {
          "output_type": "stream",
          "name": "stdout",
          "text": [
            "Hola victor te saludo desde la funcion\n"
          ]
        }
      ]
    },
    {
      "cell_type": "code",
      "source": [
        "def Nombre(fname,lname):\n",
        "    print(\"Hola \" +fname + \"\" + lname+ \" te saludo desde la función\")\n",
        "\n",
        "Nombre(\"victorsito\",\" HF\")"
      ],
      "metadata": {
        "colab": {
          "base_uri": "https://localhost:8080/"
        },
        "id": "fjURplKM3xIi",
        "outputId": "b0e0f1a1-3915-4523-8813-3966ee3b401b"
      },
      "execution_count": 15,
      "outputs": [
        {
          "output_type": "stream",
          "name": "stdout",
          "text": [
            "Hola victorsito HF te saludo desde la función\n"
          ]
        }
      ]
    },
    {
      "cell_type": "code",
      "source": [
        "def mi_funcion(*kids):\n",
        "    print(\"El niño menor es\" + kids[0])\n",
        "\n",
        "mi_funcion(\" Emil\", \" Tobias\", \" Linus\")"
      ],
      "metadata": {
        "colab": {
          "base_uri": "https://localhost:8080/"
        },
        "id": "J2UQbNYe4n7S",
        "outputId": "f1c2902f-edf4-4740-b174-5a58775ec8b6"
      },
      "execution_count": 17,
      "outputs": [
        {
          "output_type": "stream",
          "name": "stdout",
          "text": [
            "El niño menor es Emil\n"
          ]
        }
      ]
    },
    {
      "cell_type": "code",
      "source": [
        "def sum_vec(A,B):\n",
        "  if len(A) == len(B):\n",
        "    n=len(A)\n",
        "    C=n*[0]\n",
        "    print(C)\n",
        "    for i in range(n):\n",
        "      C[i]=A[i]+B[i]\n",
        "    print(\"Los vectores se pueden sumar y el resultado es:\")\n",
        "    print(C)"
      ],
      "metadata": {
        "id": "uMFkThIS6M0R"
      },
      "execution_count": 20,
      "outputs": []
    },
    {
      "cell_type": "code",
      "source": [
        "A=[1, 2, 3, 4, 5]\n",
        "B=[6, 7, 8, 9, 10]\n",
        "sum_vec(A,B)"
      ],
      "metadata": {
        "colab": {
          "base_uri": "https://localhost:8080/"
        },
        "id": "xV-beFQwDpUd",
        "outputId": "8b963ef3-c49d-44e6-ccf8-15a7be25a939"
      },
      "execution_count": 21,
      "outputs": [
        {
          "output_type": "stream",
          "name": "stdout",
          "text": [
            "[0, 0, 0, 0, 0]\n",
            "Los vectores se pueden sumar y el resultado es:\n",
            "[7, 9, 11, 13, 15]\n"
          ]
        }
      ]
    },
    {
      "cell_type": "code",
      "source": [
        "#Producto Punto\n",
        "A = [2, 3, 4]\n",
        "B = [5, 6, 7]\n",
        "\n",
        "suma_vectores = [x + y for x, y in zip(A, B)]\n",
        "\n",
        "producto_punto = sum(x * y for x, y in zip(A, B))\n",
        "\n",
        "print(\"Vector suma:\", suma_vectores)\n",
        "print(\"Producto punto:\", producto_punto)\n"
      ],
      "metadata": {
        "id": "t-SjgZc6D_Wa",
        "colab": {
          "base_uri": "https://localhost:8080/"
        },
        "outputId": "bc6fe6d7-98f5-4a65-e749-a6bb8b1ea670"
      },
      "execution_count": 27,
      "outputs": [
        {
          "output_type": "stream",
          "name": "stdout",
          "text": [
            "Vector suma: [7, 9, 11]\n",
            "Producto punto: 56\n"
          ]
        }
      ]
    }
  ]
}