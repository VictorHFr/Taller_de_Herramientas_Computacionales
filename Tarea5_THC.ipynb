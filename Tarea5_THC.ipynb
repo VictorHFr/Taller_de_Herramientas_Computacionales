{
  "nbformat": 4,
  "nbformat_minor": 0,
  "metadata": {
    "colab": {
      "provenance": []
    },
    "kernelspec": {
      "name": "python3",
      "display_name": "Python 3"
    },
    "language_info": {
      "name": "python"
    }
  },
  "cells": [
    {
      "cell_type": "code",
      "source": [
        "#Tarea 5\n",
        "#Hernandez Franco Victor Manuel\n",
        "#listas\n"
      ],
      "metadata": {
        "id": "-D4NM4SdsQJ_"
      },
      "execution_count": null,
      "outputs": []
    },
    {
      "cell_type": "code",
      "execution_count": 4,
      "metadata": {
        "colab": {
          "base_uri": "https://localhost:8080/"
        },
        "id": "Ilz3sRMIp41i",
        "outputId": "37e46def-482b-4b75-bc8e-1e5eb36c3577"
      },
      "outputs": [
        {
          "output_type": "stream",
          "name": "stdout",
          "text": [
            "Ingresa un número: 2\n",
            "Ingresa un número: 23\n",
            "Ingresa un número: 23\n",
            "Ingresa un número: 23\n",
            "Ingresa un número: 23\n",
            "El promedio de los números en la lista es: 12.6\n"
          ]
        }
      ],
      "source": [
        "# Declarar una lista con 5 números\n",
        "numeros = [10, 7, 11, 3,\n",
        "           1]\n",
        "\n",
        "# Pedir al usuario que ingrese 5 números y guardarlos en la lista\n",
        "for i in range(5):\n",
        "    numero = float(input(\"Ingresa un número: \"))\n",
        "    numeros.append(numero)\n",
        "\n",
        "# Calcular el promedio de los valores en la lista\n",
        "promedio = sum(numeros) / len(numeros)\n",
        "\n",
        "print(f\"El promedio de los números en la lista es: {promedio}\")"
      ]
    },
    {
      "cell_type": "code",
      "source": [
        "#lista de num\n",
        "numeros = [15, 7, 30, 22, 9, 45, 18]\n",
        "\n",
        "# Encontrar el valor máximo y mínimo en la lista\n",
        "maximo = max(numeros)\n",
        "minimo = min(numeros)\n",
        "\n",
        "print(f\"El valor máximo en la lista es: {maximo}\")\n",
        "print(f\"El valor mínimo en la lista es: {minimo}\")"
      ],
      "metadata": {
        "colab": {
          "base_uri": "https://localhost:8080/"
        },
        "id": "S4tVp1T-rtkV",
        "outputId": "c3a906f8-1d87-4987-bbbf-713ddfe7a4bb"
      },
      "execution_count": 5,
      "outputs": [
        {
          "output_type": "stream",
          "name": "stdout",
          "text": [
            "El valor máximo en la lista es: 45\n",
            "El valor mínimo en la lista es: 7\n"
          ]
        }
      ]
    },
    {
      "cell_type": "code",
      "source": [
        "#lista de números\n",
        "numeros = [12, 7, 14, 9, 22, 36, 15]\n",
        "\n",
        "# Inicializar listas para números pares e impares\n",
        "pares = []\n",
        "impares = []\n",
        "\n",
        "# Separar los números en listas diferentes\n",
        "for numero in numeros:\n",
        "    if numero % 2 == 0:\n",
        "        pares.append(numero)\n",
        "    else:\n",
        "        impares.append(numero)\n",
        "\n",
        "print(\"Números pares:\", pares)\n",
        "print(\"Números impares:\", impares)"
      ],
      "metadata": {
        "colab": {
          "base_uri": "https://localhost:8080/"
        },
        "id": "OoJPTxIssDqa",
        "outputId": "a432fda8-eaaf-4b62-9f7f-e35073667eff"
      },
      "execution_count": 6,
      "outputs": [
        {
          "output_type": "stream",
          "name": "stdout",
          "text": [
            "Números pares: [12, 14, 22, 36]\n",
            "Números impares: [7, 9, 15]\n"
          ]
        }
      ]
    }
  ]
}